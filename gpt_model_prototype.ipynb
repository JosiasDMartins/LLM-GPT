{
 "cells": [
  {
   "cell_type": "markdown",
   "id": "6f5da1f0-6895-4125-bd92-6c4b5569fd2f",
   "metadata": {},
   "source": [
    "*LLM - GPT Model*\n",
    "\n",
    "This is a study case of LLMs, developing and training a local GPT model using Open/Free content."
   ]
  },
  {
   "cell_type": "raw",
   "id": "1a1ce553-1a5c-451b-a720-3d0227958883",
   "metadata": {},
   "source": [
    "!pip install matplotlib numpy pylzma"
   ]
  },
  {
   "cell_type": "raw",
   "id": "b0cd988d-7b4f-45a0-8a97-8d24a7dfec36",
   "metadata": {},
   "source": [
    "!pip3 install torch torchvision torchaudio --index-url https://download.pytorch.org/whl/cu121"
   ]
  },
  {
   "cell_type": "code",
   "execution_count": 1,
   "id": "9f503009-07cf-4f19-a986-4d52ddf7525f",
   "metadata": {},
   "outputs": [],
   "source": [
    "import torch\n",
    "import torch.nn as nn\n",
    "from torch.nn import functional as F\n",
    "import time\n",
    "import mmap\n",
    "import random\n",
    "import pickle\n",
    "import os\n",
    "import argparse"
   ]
  },
  {
   "cell_type": "code",
   "execution_count": 2,
   "id": "28a3304e-da96-4cab-bc69-2f60e5dc2a9e",
   "metadata": {},
   "outputs": [
    {
     "name": "stdout",
     "output_type": "stream",
     "text": [
      "12.1\n"
     ]
    }
   ],
   "source": [
    "print(torch.version.cuda)"
   ]
  },
  {
   "cell_type": "markdown",
   "id": "89c743fd-4bc7-449d-9fcf-ccb186f12113",
   "metadata": {},
   "source": [
    "parser = argparse.ArgumentParser(description='This is a demonstration')\n",
    "\n",
    "parser.add_argument('-batch_size', type=str, required=True, help ='Provide the Batch Size')\n",
    "args = parser.parse_args()\n",
    "print(f'batch size: {args.batch_size')"
   ]
  },
  {
   "cell_type": "code",
   "execution_count": 3,
   "id": "28379ecc-c645-4039-ba37-2aa85a431056",
   "metadata": {},
   "outputs": [
    {
     "name": "stdout",
     "output_type": "stream",
     "text": [
      "cuda\n"
     ]
    }
   ],
   "source": [
    "device = 'cuda' if torch.cuda.is_available() else 'cpu'\n",
    "print(device)\n",
    "\n",
    "model_filename = 'jdm_model.pkl'\n",
    "\n",
    "#Definitions / hyperparameters\n",
    "batch_size = 64\n",
    "block_size = 128\n",
    "max_iters = 200  #3000\n",
    "learning_rate = 3e-4 #, 3e-4, 1e-3, 1e-4\n",
    "eval_iters = 100\n",
    "n_embd = 384\n",
    "n_head = 8  #8\n",
    "n_layers = 8  #8 #Normaly same number of decoders\n",
    "dropout = 0.2"
   ]
  },
  {
   "cell_type": "code",
   "execution_count": 4,
   "id": "e9207d2b-af96-4e5e-bf69-eea57d74e15c",
   "metadata": {},
   "outputs": [
    {
     "name": "stdout",
     "output_type": "stream",
     "text": [
      "0.05934048\n",
      "CPU times: total: 234 ms\n",
      "Wall time: 59.3 ms\n"
     ]
    }
   ],
   "source": [
    "%%time\n",
    "start_time = time.time()\n",
    "zeros = torch.zeros(100,100,100,100)\n",
    "end_time = time.time()\n",
    "\n",
    "elapsed_time = end_time - start_time\n",
    "print(f\"{elapsed_time:.8f}\")"
   ]
  },
  {
   "cell_type": "code",
   "execution_count": 5,
   "id": "58191b8f-ad96-4af7-9f33-7e290e640b2b",
   "metadata": {},
   "outputs": [],
   "source": [
    "chars = \"\"\n",
    "with open('D:/AI_Datasets/LLM/openwebtext/vocab.txt', 'r', encoding='utf-8') as f:\n",
    "    text = f.read()\n",
    "    chars = sorted(list(set(text)))\n",
    "\n",
    "vocab_size = len(chars)\n",
    "\n",
    "#print(text[:200])\n"
   ]
  },
  {
   "cell_type": "markdown",
   "id": "5df3ba84-d70c-4bf4-8937-584f7b1e9906",
   "metadata": {},
   "source": [
    "*Tokenizing*\n",
    "These blocks of code are tokenizing the book, to extract each char and creating a SET\n",
    "\n",
    "Using enconde/decode functions, we can save a lot of memory since we don't need to\n",
    "\n",
    "work with all tokens (only with that tokens that are present on the dataset)"
   ]
  },
  {
   "cell_type": "markdown",
   "id": "d78a4154-c919-413f-a47b-a45fc7469f70",
   "metadata": {},
   "source": [
    "#chars = sorted(set(text))  #Tokenizing - Verify the vocabulary (chars) used on this book \n",
    "print(chars)\n",
    "vocab_size = len(chars)\n",
    "print(vocab_size)"
   ]
  },
  {
   "cell_type": "code",
   "execution_count": 6,
   "id": "ccd1a38e-9416-4899-9df9-4727f16f21a5",
   "metadata": {},
   "outputs": [],
   "source": [
    "#Creating decoders and encoders to easily convert data from String to int and int to string\n",
    "\n",
    "string_to_int = { ch:i for i, ch in enumerate(chars)} #Getting the string\n",
    "int_to_string = { i:ch for i,ch in enumerate(chars)} #Getting the ints\n",
    "encode = lambda s: [string_to_int[c] for c in s]  #Encoding from string to int\n",
    "decode = lambda l: ''.join([int_to_string[i] for i in l])  #Decoding from int to string"
   ]
  },
  {
   "cell_type": "markdown",
   "id": "fec97c57-00a5-42ce-83c1-6549f5a3fd53",
   "metadata": {},
   "source": [
    "#Testing\n",
    "#The expected result should be return a LIST with the index value for each char\n",
    "encoded_hello = encode('hello')\n",
    "print(encoded_hello)\n",
    "decoded_hello = decode(encoded_hello)\n",
    "print(decoded_hello)"
   ]
  },
  {
   "cell_type": "markdown",
   "id": "adef68a9-a63d-4c29-8583-04373009cbff",
   "metadata": {},
   "source": [
    "#Creating a tensor with our encoded text\n",
    "data=torch.tensor(encode(text), dtype=torch.long)\n",
    "print(data[:200])"
   ]
  },
  {
   "cell_type": "markdown",
   "id": "3f89980c-731e-4c6d-9c02-ea333ca4b703",
   "metadata": {},
   "source": [
    "#Splitting the dataset (80-20)\n",
    "n  = int(0.8*len(data))\n",
    "train_data = data[:n]\n",
    "val_data = data[n:]"
   ]
  },
  {
   "cell_type": "code",
   "execution_count": 7,
   "id": "1dee6b01-e78c-43c3-8958-fd7d23becd1b",
   "metadata": {},
   "outputs": [],
   "source": [
    "def get_random_chunk(split):\n",
    "    filename = \"D:/AI_Datasets/LLM/openwebtext/train_split.txt\" if split == 'train' else \"D:/AI_Datasets/LLM/openwebtext/val_split.txt\"\n",
    "    with open(filename, 'rb') as f:\n",
    "        with mmap.mmap(f.fileno(), 0, access=mmap.ACCESS_READ) as mm:\n",
    "            #Determine the file size and random position to start reading\n",
    "            file_size = len(mm)\n",
    "            start_pos = random.randint(0, (file_size) - block_size*batch_size)\n",
    "\n",
    "            #Seek to random position and read the block of text\n",
    "            mm.seek(start_pos)\n",
    "            block = mm.read(block_size*batch_size-1)\n",
    "\n",
    "            #decode the block to a string\n",
    "            decoded_block = block.decode('utf-8', errors='ignore').replace('\\r','')\n",
    "\n",
    "            #Splitting the dataset into train an test\n",
    "            data = torch.tensor(encode(decoded_block), dtype=torch.long)\n",
    "    return data"
   ]
  },
  {
   "cell_type": "code",
   "execution_count": 8,
   "id": "06e2ba0e-96e3-48e7-8d4c-e7f0d7c9c11b",
   "metadata": {},
   "outputs": [],
   "source": [
    "def get_batch(split):\n",
    "    data = get_random_chunk(split)\n",
    "    ix = torch.randint(len(data) - block_size, (batch_size,))\n",
    "    x = torch.stack([data[i:i+block_size] for i in ix])\n",
    "    y = torch.stack([data[i+1:i+block_size+1] for i in ix])\n",
    "    x, y = x.to(device), y.to(device)\n",
    "    return x, y"
   ]
  },
  {
   "cell_type": "code",
   "execution_count": 9,
   "id": "c6dfef7f-f6ad-4aa4-b346-a09c03542e13",
   "metadata": {},
   "outputs": [],
   "source": [
    "@torch.no_grad()  #Reducing computation\n",
    "def estimate_loss():\n",
    "    out = {}\n",
    "    model.eval()\n",
    "    for split in ['train', 'val']:\n",
    "        losses = torch.zeros(eval_iters)\n",
    "        for k in range(eval_iters):\n",
    "            X, Y = get_batch(split)\n",
    "            logits, loss = model(X, Y)\n",
    "            losses[k] = loss.item()\n",
    "        out[split] = losses.mean()\n",
    "    model.train()\n",
    "    return out\n",
    "    "
   ]
  },
  {
   "cell_type": "markdown",
   "id": "b4a98efa-145f-410d-8973-368f03893b49",
   "metadata": {},
   "source": [
    "- B: Batch\n",
    "- T: Time\n",
    "- C: Channel"
   ]
  },
  {
   "cell_type": "code",
   "execution_count": 10,
   "id": "840a6b5d-ff1e-4c79-a032-f3188e7d0190",
   "metadata": {},
   "outputs": [],
   "source": [
    "class Head(nn.Module):\n",
    "    def __init__(self,head_size):\n",
    "        super().__init__()\n",
    "        self.key = nn.Linear(n_embd, head_size, bias=False)\n",
    "        self.query = nn.Linear(n_embd, head_size, bias=False)\n",
    "        self.value = nn.Linear(n_embd, head_size, bias=False)\n",
    "        self.register_buffer('tril', torch.tril(torch.ones(block_size, block_size)))\n",
    "\n",
    "        self.dropout = nn.Dropout(dropout)\n",
    "\n",
    "    def forward(self, x):\n",
    "        B,T,C = x.shape\n",
    "        k = self.key(x)  #key transformation\n",
    "        q = self.query(x)\n",
    "        #Compute attention scores\n",
    "        # Matrix coalculation - query by key (transposed)\n",
    "        wei = q @ k.transpose(-2,-1) * k.shape[-1]**-0.5 #(B, T, hs) @ (B, hs, T) -> B, T, T\n",
    "        wei = wei.masked_fill(self.tril[:T, :T] == 0, float('-inf'))\n",
    "        wei = F.softmax(wei, dim=-1)\n",
    "        wei = self.dropout(wei)\n",
    "        v = self.value(x)\n",
    "        out = wei @ v\n",
    "        return out\n",
    "        "
   ]
  },
  {
   "cell_type": "code",
   "execution_count": 11,
   "id": "4f0ee8d3-4628-4cc1-9384-6bd712073ea4",
   "metadata": {},
   "outputs": [],
   "source": [
    "class MultiHeadAttention(nn.Module):\n",
    "    def __init__(self, num_heads, head_size):\n",
    "        super().__init__()\n",
    "        self.heads = nn.ModuleList([Head(head_size) for _ in range(num_heads)])\n",
    "        self.proj = nn.Linear(head_size * num_heads, n_embd)\n",
    "        self.dropout = nn.Dropout(dropout)\n",
    "\n",
    "    def forward(self, x):\n",
    "        out = torch.cat([h(x) for h in self.heads], dim=-1)\n",
    "        out = self.dropout(self.proj(out))\n",
    "        return out"
   ]
  },
  {
   "cell_type": "code",
   "execution_count": 12,
   "id": "abd11a27-0e19-42e6-a85e-0c99ceab493a",
   "metadata": {},
   "outputs": [],
   "source": [
    "class FeedForward(nn.Module):\n",
    "    def __init__(self, n_embd):\n",
    "        super().__init__()\n",
    "        self.net = nn.Sequential(\n",
    "             nn.Linear(n_embd, 4 * n_embd),\n",
    "             nn.ReLU(),\n",
    "             nn.Linear(4 * n_embd, n_embd),\n",
    "             nn.Dropout(dropout),\n",
    "        )\n",
    "\n",
    "    def forward(self, x):\n",
    "        return self.net(x)"
   ]
  },
  {
   "cell_type": "code",
   "execution_count": 13,
   "id": "1534bac9-3472-4d3c-a708-c1dbd3e7c529",
   "metadata": {},
   "outputs": [],
   "source": [
    "class Block(nn.Module):\n",
    "    def __init__(self, n_embd, n_head):\n",
    "        super().__init__()\n",
    "        head_size = n_embd // n_head\n",
    "        self.sa = MultiHeadAttention(n_head, head_size)\n",
    "        self.ffwd = FeedForward(n_embd)\n",
    "        self.ln1 = nn.LayerNorm(n_embd)\n",
    "        self.ln2 = nn.LayerNorm(n_embd)\n",
    "\n",
    "    def forward(self, x):\n",
    "        y = self.sa(x)   #Self Attentiion\n",
    "        x = self.ln1(x + y)  #Linear Normalization\n",
    "        y = self.ffwd(x)  #Feed Forward\n",
    "        x = self.ln2(x + y) #Linear Normalization\n",
    "        return x"
   ]
  },
  {
   "cell_type": "code",
   "execution_count": 14,
   "id": "5a57480c-f185-4ecd-a70e-0ba2ff29c0ba",
   "metadata": {},
   "outputs": [],
   "source": [
    "class GPTLanguageModel(nn.Module):\n",
    "    def __init__(self, vocab_size):\n",
    "        super().__init__()\n",
    "        self.token_embedding_table = nn.Embedding(vocab_size, n_embd)\n",
    "        self.position_embedding_table = nn.Embedding(block_size, n_embd)\n",
    "        #Blocs\n",
    "        self.blocks = nn.Sequential(*[Block(n_embd, n_head=n_head) for _ in range(n_layers)])  #Creating the decoding blocks\n",
    "        self.ln_f = nn.LayerNorm(n_embd)   #Final normalization Layer\n",
    "        self.lm_head = nn.Linear(n_embd, vocab_size)\n",
    "\n",
    "        self.apply(self._init_weights)\n",
    "\n",
    "    def _init_weights(self, module):\n",
    "        if isinstance(module, nn.Linear):\n",
    "            torch.nn.init.normal_(module.weight, mean=0.0, std=0.02)\n",
    "            if module.bias is not None:\n",
    "                torch.nn.init.zeros_(module.bias)\n",
    "            elif isinstance(module, nn.Embedding):\n",
    "                torch.nn.init.normal_(module.weight, mean=0.0, std=0.02)\n",
    "    \n",
    "    def forward(self, index, targets=None):\n",
    "        B, T = index.shape\n",
    "\n",
    "        tok_emb = self.token_embedding_table(index)\n",
    "        pos_emb = self.position_embedding_table(torch.arange(T, device=device))  #(T, C)\n",
    "        x = tok_emb + pos_emb    #(B, T, C)\n",
    "        x = self.blocks(x)\n",
    "        x = self.ln_f(x)\n",
    "        logits = self.lm_head(x)\n",
    "\n",
    "        if targets is None:\n",
    "            loss = None\n",
    "        else:\n",
    "            B, T, C = logits.shape\n",
    "            logits = logits.view(B*T, C)\n",
    "            targets = targets.view(B*T)\n",
    "            loss = F.cross_entropy(logits, targets)\n",
    "        \n",
    "        return logits, loss\n",
    "\n",
    "    def generate(self, index, max_new_tokens):\n",
    "        #index is (B, T) array of indexes in the current context\n",
    "        for _ in range(max_new_tokens):\n",
    "            #Getting predictions\n",
    "            logits, loss = self.forward(index)\n",
    "            #Focus only on the last time step\n",
    "            logits = logits[:, -1, :]\n",
    "            #Apply softmax to get probs\n",
    "            probs = F.softmax(logits, dim=-1)\n",
    "            #Sample from distrib\n",
    "            index_next = torch.multinomial(probs, num_samples=1)\n",
    "            #Append sampled index to the running sequence\n",
    "            index = torch.cat((index, index_next), dim=1)  #(B, T+1)\n",
    "        return index\n",
    "            \n",
    "\n",
    "model = GPTLanguageModel(vocab_size)\n",
    "m = model.to(device)\n",
    "\n",
    "if os.path.exists(model_filename):\n",
    "    print(\"Loading model parameters...\")\n",
    "    with open(model_filename, 'rb') as f:\n",
    "        model = pickle.load(f)\n",
    "    print(\"lodaded\")\n",
    "    m = model.to(device)"
   ]
  },
  {
   "cell_type": "code",
   "execution_count": 15,
   "id": "c872af13-0795-4fdb-bddb-35dae2f658a7",
   "metadata": {},
   "outputs": [
    {
     "name": "stdout",
     "output_type": "stream",
     "text": [
      "step: 0, train loss 10.456, val loss 10.443\n",
      "step: 100, train loss 2.452, val loss 2.393\n",
      "3.1472861766815186\n",
      "Model saved\n"
     ]
    }
   ],
   "source": [
    "#Create a PyTorch Optimizer\n",
    "optimizer = torch.optim.AdamW(model.parameters(), lr=learning_rate)\n",
    "\n",
    "for iter in range(max_iters):\n",
    "    if iter % eval_iters == 0:\n",
    "        losses = estimate_loss()\n",
    "        print(f\"step: {iter}, train loss {losses['train']:.3f}, val loss {losses['val']:.3f}\")\n",
    "    \n",
    "    \n",
    "    xb, yb = get_batch('train')\n",
    "\n",
    "    #evaluate\n",
    "    logits, loss = model.forward(xb, yb)\n",
    "    optimizer.zero_grad(set_to_none=True)\n",
    "    loss.backward()\n",
    "    optimizer.step()\n",
    "print(loss.item())\n",
    "\n",
    "with open(model_filename, 'wb') as f:\n",
    "    pickle.dump(model, f)\n",
    "print('Model saved')"
   ]
  },
  {
   "cell_type": "markdown",
   "id": "7853a257-1013-4170-8fa1-80e5118d4ccc",
   "metadata": {},
   "source": [
    "context = torch.zeros((1,1), dtype=torch.long, device=device)\n",
    "generated_chars = decode(m.generate(context,max_new_tokens=500)[0].tolist())\n",
    "print(generated_chars)"
   ]
  },
  {
   "cell_type": "code",
   "execution_count": null,
   "id": "e7ecc0ba-8524-41cb-93b7-5355a26d62ad",
   "metadata": {},
   "outputs": [],
   "source": []
  }
 ],
 "metadata": {
  "kernelspec": {
   "display_name": "Python 3 (ipykernel)",
   "language": "python",
   "name": "python3"
  },
  "language_info": {
   "codemirror_mode": {
    "name": "ipython",
    "version": 3
   },
   "file_extension": ".py",
   "mimetype": "text/x-python",
   "name": "python",
   "nbconvert_exporter": "python",
   "pygments_lexer": "ipython3",
   "version": "3.12.1"
  }
 },
 "nbformat": 4,
 "nbformat_minor": 5
}
