{
 "cells": [
  {
   "cell_type": "markdown",
   "id": "6f5da1f0-6895-4125-bd92-6c4b5569fd2f",
   "metadata": {},
   "source": [
    "*LLM - GPT Model*\n",
    "\n",
    "This is a study case of LLMs, developing and training a local GPT model using Open/Free content."
   ]
  },
  {
   "cell_type": "raw",
   "id": "1a1ce553-1a5c-451b-a720-3d0227958883",
   "metadata": {},
   "source": [
    "!pip install matplotlib numpy pylzma"
   ]
  },
  {
   "cell_type": "raw",
   "id": "b0cd988d-7b4f-45a0-8a97-8d24a7dfec36",
   "metadata": {},
   "source": [
    "!pip3 install torch torchvision torchaudio --index-url https://download.pytorch.org/whl/cu121"
   ]
  },
  {
   "cell_type": "code",
   "execution_count": 1,
   "id": "9f503009-07cf-4f19-a986-4d52ddf7525f",
   "metadata": {},
   "outputs": [],
   "source": [
    "import torch\n",
    "import torch.nn as nn\n",
    "from torch.nn import functional as F\n",
    "import time"
   ]
  },
  {
   "cell_type": "code",
   "execution_count": 2,
   "id": "28a3304e-da96-4cab-bc69-2f60e5dc2a9e",
   "metadata": {},
   "outputs": [
    {
     "name": "stdout",
     "output_type": "stream",
     "text": [
      "12.1\n"
     ]
    }
   ],
   "source": [
    "print(torch.version.cuda)"
   ]
  },
  {
   "cell_type": "code",
   "execution_count": 3,
   "id": "28379ecc-c645-4039-ba37-2aa85a431056",
   "metadata": {},
   "outputs": [
    {
     "name": "stdout",
     "output_type": "stream",
     "text": [
      "cuda\n"
     ]
    }
   ],
   "source": [
    "device = 'cuda' if torch.cuda.is_available() else 'cpu'\n",
    "print(device)\n",
    "\n",
    "#Definitions / hyperparameters\n",
    "block_size = 8\n",
    "batch_size = 4\n",
    "max_iters = 10000\n",
    "learning_rate = 3e-4\n",
    "eval_iters = 250\n",
    "n_embd = 384\n",
    "n_layers = 4\n",
    "dropout = 0.2"
   ]
  },
  {
   "cell_type": "code",
   "execution_count": 4,
   "id": "e9207d2b-af96-4e5e-bf69-eea57d74e15c",
   "metadata": {},
   "outputs": [
    {
     "name": "stdout",
     "output_type": "stream",
     "text": [
      "0.06750298\n",
      "CPU times: total: 203 ms\n",
      "Wall time: 67.5 ms\n"
     ]
    }
   ],
   "source": [
    "%%time\n",
    "start_time = time.time()\n",
    "zeros = torch.zeros(100,100,100,100)\n",
    "end_time = time.time()\n",
    "\n",
    "elapsed_time = end_time - start_time\n",
    "print(f\"{elapsed_time:.8f}\")"
   ]
  },
  {
   "cell_type": "code",
   "execution_count": 5,
   "id": "58191b8f-ad96-4af7-9f33-7e290e640b2b",
   "metadata": {},
   "outputs": [],
   "source": [
    "with open('Dataset/Books/The_Wizard_of_OS.txt', 'r', encoding='utf-8') as f:\n",
    "    text = f.read()\n",
    "\n",
    "#print(text[:200])\n"
   ]
  },
  {
   "cell_type": "markdown",
   "id": "5df3ba84-d70c-4bf4-8937-584f7b1e9906",
   "metadata": {},
   "source": [
    "*Tokenizing*\n",
    "These blocks of code are tokenizing the book, to extract each char and creating a SET\n",
    "\n",
    "Using enconde/decode functions, we can save a lot of memory since we don't need to\n",
    "\n",
    "work with all tokens (only with that tokens that are present on the dataset)"
   ]
  },
  {
   "cell_type": "code",
   "execution_count": 6,
   "id": "aaa4965c-7852-4d32-80d2-3b181e7766b0",
   "metadata": {},
   "outputs": [
    {
     "name": "stdout",
     "output_type": "stream",
     "text": [
      "['\\n', ' ', '!', '\"', '&', \"'\", '(', ')', '*', ',', '-', '.', '0', '1', '2', '3', '4', '5', '6', '7', '8', '9', ':', ';', '?', 'A', 'B', 'C', 'D', 'E', 'F', 'G', 'H', 'I', 'J', 'K', 'L', 'M', 'N', 'O', 'P', 'Q', 'R', 'S', 'T', 'U', 'V', 'W', 'X', 'Y', 'Z', '[', ']', '_', 'a', 'b', 'c', 'd', 'e', 'f', 'g', 'h', 'i', 'j', 'k', 'l', 'm', 'n', 'o', 'p', 'q', 'r', 's', 't', 'u', 'v', 'w', 'x', 'y', 'z', '\\ufeff']\n",
      "81\n"
     ]
    }
   ],
   "source": [
    "chars = sorted(set(text))  #Tokenizing - Verify the vocabulary (chars) used on this book \n",
    "print(chars)\n",
    "vocab_size = len(chars)\n",
    "print(vocab_size)"
   ]
  },
  {
   "cell_type": "code",
   "execution_count": 7,
   "id": "ccd1a38e-9416-4899-9df9-4727f16f21a5",
   "metadata": {},
   "outputs": [],
   "source": [
    "#Creating decoders and encoders to easily convert data from String to int and int to string\n",
    "\n",
    "string_to_int = { ch:i for i, ch in enumerate(chars)} #Getting the string\n",
    "int_to_string = { i:ch for i,ch in enumerate(chars)} #Getting the ints\n",
    "encode = lambda s: [string_to_int[c] for c in s]  #Encoding from string to int\n",
    "decode = lambda l: ''.join([int_to_string[i] for i in l])  #Decoding from int to string\n",
    "\n"
   ]
  },
  {
   "cell_type": "code",
   "execution_count": 8,
   "id": "2e627139-5d34-49c9-ab2a-cd2e8d6ca5aa",
   "metadata": {},
   "outputs": [
    {
     "name": "stdout",
     "output_type": "stream",
     "text": [
      "[61, 58, 65, 65, 68]\n",
      "hello\n"
     ]
    }
   ],
   "source": [
    "#Testing\n",
    "#The expected result should be return a LIST with the index value for each char\n",
    "encoded_hello = encode('hello')\n",
    "print(encoded_hello)\n",
    "decoded_hello = decode(encoded_hello)\n",
    "print(decoded_hello)"
   ]
  },
  {
   "cell_type": "code",
   "execution_count": 9,
   "id": "f8e24b1a-2cc2-4825-9914-174e5bf32162",
   "metadata": {},
   "outputs": [
    {
     "name": "stdout",
     "output_type": "stream",
     "text": [
      "tensor([80,  1,  1, 28, 39, 42, 39, 44, 32, 49,  1, 25, 38, 28,  1, 44, 32, 29,\n",
      "         1, 47, 33, 50, 25, 42, 28,  1, 33, 38,  1, 39, 50,  0,  0,  1,  1, 26,\n",
      "        49,  0,  0,  1,  1, 36, 11,  1, 30, 42, 25, 38, 35,  1, 26, 25, 45, 37,\n",
      "         0,  0,  1,  1, 25, 45, 44, 32, 39, 42,  1, 39, 30,  1, 44, 32, 29,  1,\n",
      "        47, 33, 50, 25, 42, 28,  1, 39, 30,  1, 39, 50,  9,  1, 44, 32, 29,  1,\n",
      "        36, 25, 38, 28,  1, 39, 30,  1, 39, 50,  9,  1, 39, 50, 37, 25,  1, 39,\n",
      "        30,  1, 39, 50,  9,  1, 29, 44, 27, 11,  0,  0,  1,  1, 33, 36, 36, 45,\n",
      "        43, 44, 42, 25, 44, 29, 28,  1, 26, 49,  1, 34, 39, 32, 38,  1, 42, 11,\n",
      "         1, 38, 29, 33, 36, 36,  0,  0,  1,  1, 26, 39, 39, 35, 43,  1, 39, 30,\n",
      "         1, 47, 39, 38, 28, 29, 42,  1, 47, 33, 36, 36, 33, 25, 37,  1, 37, 39,\n",
      "        42, 42, 39, 47,  1,  4,  1, 27, 39, 11,  9,  1, 33, 38, 27, 11,  1, 38,\n",
      "        29, 47])\n"
     ]
    }
   ],
   "source": [
    "#Creating a tensor with our encoded text\n",
    "data=torch.tensor(encode(text), dtype=torch.long)\n",
    "print(data[:200])"
   ]
  },
  {
   "cell_type": "code",
   "execution_count": 10,
   "id": "9bc51feb-3de2-4f31-ad15-5896676e7964",
   "metadata": {},
   "outputs": [],
   "source": [
    "#Splitting the dataset (80-20)\n",
    "n  = int(0.8*len(data))\n",
    "train_data = data[:n]\n",
    "val_data = data[n:]"
   ]
  },
  {
   "cell_type": "code",
   "execution_count": 11,
   "id": "1dee6b01-e78c-43c3-8958-fd7d23becd1b",
   "metadata": {},
   "outputs": [
    {
     "name": "stdout",
     "output_type": "stream",
     "text": [
      "inputs: \n",
      "tensor([[68, 69,  1, 68, 59,  1, 73, 61],\n",
      "        [ 1, 62, 67, 73, 68,  1, 73, 61],\n",
      "        [71, 58,  0, 54, 55, 65, 58,  1],\n",
      "        [ 1, 76, 54, 72,  1, 72, 58, 67]], device='cuda:0')\n",
      "targets\n",
      "tensor([[69,  1, 68, 59,  1, 73, 61, 58],\n",
      "        [62, 67, 73, 68,  1, 73, 61, 58],\n",
      "        [58,  0, 54, 55, 65, 58,  1, 73],\n",
      "        [76, 54, 72,  1, 72, 58, 67, 73]], device='cuda:0')\n"
     ]
    }
   ],
   "source": [
    "x = train_data[:block_size]\n",
    "y = train_data[1:block_size+1]\n",
    "\n",
    "def get_batch(split):\n",
    "    data = train_data if split == 'train' else val_data\n",
    "    ix = torch.randint(len(data) - block_size, (batch_size,))\n",
    "    #print(ix)\n",
    "    x = torch.stack([data[i:i+block_size] for i in ix])\n",
    "    y = torch.stack([data[i+1:i+block_size+1] for i in ix])\n",
    "    x, y = x.to(device), y.to(device)\n",
    "    return x, y\n",
    "\n",
    "x, y = get_batch('train')\n",
    "print('inputs: ')\n",
    "print(x)\n",
    "print('targets')\n",
    "print(y)"
   ]
  },
  {
   "cell_type": "code",
   "execution_count": 12,
   "id": "c6dfef7f-f6ad-4aa4-b346-a09c03542e13",
   "metadata": {},
   "outputs": [],
   "source": [
    "@torch.no_grad()  #Reducing computation\n",
    "def estimate_loss():\n",
    "    out = {}\n",
    "    model.eval()\n",
    "    for split in ['train', 'val']:\n",
    "        losses = torch.zeros(eval_iters)\n",
    "        for k in range(eval_iters):\n",
    "            X, Y = get_batch(split)\n",
    "            logits, loss = model(X, Y)\n",
    "            losses[k] = loss.item()\n",
    "        out[split] = losses.mean()\n",
    "    model.train()\n",
    "    return out\n",
    "    "
   ]
  },
  {
   "cell_type": "code",
   "execution_count": null,
   "id": "840a6b5d-ff1e-4c79-a032-f3188e7d0190",
   "metadata": {},
   "outputs": [],
   "source": [
    "class Head(nn.Module):"
   ]
  },
  {
   "cell_type": "code",
   "execution_count": null,
   "id": "4f0ee8d3-4628-4cc1-9384-6bd712073ea4",
   "metadata": {},
   "outputs": [],
   "source": [
    "class MultiHeadAttention(nn.Module):\n",
    "    def __init__(self, num_heads, head_size):\n",
    "        super().__init__()\n",
    "        self.heads = nn.ModuleList([Head(head_size) for _ in range(num_heads)])\n",
    "        self.proj = nn.Linear(head_size * num_heads, n_embd)\n",
    "        self.dropout = nn.Dropout(dropout)\n",
    "\n",
    "    def forward(self, x):\n",
    "        out = torch.cat([h(x) for h in self.heads], dim=-1)\n",
    "        out = self.dropout(self.proj(out))\n",
    "        return out"
   ]
  },
  {
   "cell_type": "code",
   "execution_count": null,
   "id": "abd11a27-0e19-42e6-a85e-0c99ceab493a",
   "metadata": {},
   "outputs": [],
   "source": [
    "class FeedForward(nn.Module):\n",
    "    def __init__(self, n_embd):\n",
    "        super().__init__()\n",
    "         self.net = nn.Sequential(\n",
    "             nn.Linear(n_embd, 4 * n_embd),\n",
    "             nn.ReLU(),\n",
    "             nn.Linear(4 * n_embd, n_embd),\n",
    "             nn.Dropout(dropout),\n",
    "         )\n",
    "\n",
    "    def forward(self, x):\n",
    "        return self.net(x)"
   ]
  },
  {
   "cell_type": "code",
   "execution_count": null,
   "id": "1534bac9-3472-4d3c-a708-c1dbd3e7c529",
   "metadata": {},
   "outputs": [],
   "source": [
    "class Block(nn.Module):\n",
    "    def __init__(self, n_embd, n_head):\n",
    "        super().__init__()\n",
    "        head_size = n_embd // n_head\n",
    "        self.sa = MultiHeadAttention(n_head, head_size)\n",
    "        self.ffwd = FreeForward(n_embd)\n",
    "        self.ln1 = nn.LayerNorm(n_embd)\n",
    "        self.ln2 = nn.LayerNorm(n_embd)\n",
    "\n",
    "    def forward(self, x):\n",
    "        y = self.sa(x)   #Self Attentiion\n",
    "        x = self.ln1(x + y)  #Linear Normalization\n",
    "        y = self.ffwd(x)  #Feed Forward\n",
    "        x = self.ln2(x + y) #Linear Normalization\n",
    "        return x"
   ]
  },
  {
   "cell_type": "code",
   "execution_count": 13,
   "id": "5a57480c-f185-4ecd-a70e-0ba2ff29c0ba",
   "metadata": {},
   "outputs": [
    {
     "name": "stdout",
     "output_type": "stream",
     "text": [
      "\n",
      "CqW?Ad2tT]?p0By-,Sx0W\n",
      "K1Bkzodq_cUA;pkpTX:J zLQzVCzNKko;KqqGSoRHJOC3r[eejXltU?acbDNPWs\n",
      "cYD3P\n",
      ")Q(k-um21J.Pgv_[8qh'W\n",
      "wT1Y4!EHZ0V?jhr[?[L\"AQjmK1rO(KSH1EbO8E3omnPq(?UxC*:dd;wsV!GtOrnnHoVWTxCH\n",
      "05r4[lWLaDKqXBkzU?H7m;XoY2tYbN6W\n",
      "VN?xGas--l4NY6OJ\"TKud4&DjPdW6N)Zff0-CWemc9:4t4*m\n",
      "i.getk8v:TdVBYC*runja-gvt?Z_77*gbvT\n",
      "7BZgg\n",
      "3b?7\n",
      "zlc;T(*Uxw\n",
      "36-VBkuR\"rzyHriKA*As﻿zja﻿(HfNAw;KKpVr0!hEH \"O3PIg!i]Fu6q&aV?bX&mTehCR-:dwO;a7Q&[p!u&FYK\n",
      " OIvYt5r_\n",
      "T,RbqB:klt6DNZMButqG8h\n",
      "IyB';]n1zQv_,gQ_k9﻿;qBlI;ozJK_,oj54;II:0Cr,3]sF4Pz:D\n"
     ]
    }
   ],
   "source": [
    "class GPTLanguageModel(nn.Module):\n",
    "    def __init__(self, vocab_size):\n",
    "        super().__init__()\n",
    "        self.token_embedding_table = nn.Embedding(vocab_size, n_embd)\n",
    "        self.position_embedding_table = nn.embedding(block_size, n_embd)\n",
    "        #Blocs\n",
    "        self.blocks = nn.squential(*[Block(n_embd, n_head=n_head) for _ in range(n_layers)])  #Creating the decoding blocks\n",
    "        self.ln_f = nn.LayerNorm(n_embd)   #Final normalization Layer\n",
    "        self.lm_head = nn.Linear(n_embd, vocab_size)\n",
    "\n",
    "        self.apply(self._init_weights)\n",
    "\n",
    "    def _init_weights(self, module):\n",
    "        if isinstance(module, nn.Linear):\n",
    "            torch.nn.init.normal_(module.weight, mean=0.0, std=0.02)\n",
    "            if module.bias is not None:\n",
    "                torch.nn.init.zeros_(module.bias)\n",
    "            else isinstance(module, bb.Embedding):\n",
    "                torch.nn.init.normal_(module.weight, mean=0.0, std=0.02)\n",
    "    \n",
    "    def forward(self, index, targets=None):\n",
    "        logits = self.token_embedding_table(index)\n",
    "\n",
    "        tok_emb = self.token_embedding_table(idx)\n",
    "        pos_emb = self.position_embedding_table(torch.arange(T, device=device))  #(T, C)\n",
    "        x = tok_emb + pos_emb    #(B, T, C)\n",
    "        x = self.blocks(x)\n",
    "        x = self.ln_f(x)\n",
    "        logits = self.lm_head(x)\n",
    "\n",
    "        if targets is None:\n",
    "            loss = None\n",
    "        else:\n",
    "            B, T, C = logits.shape\n",
    "            logits = logits.view(B*T, C)\n",
    "            targets = targets.view(B*T)\n",
    "            loss = F.cross_entropy(logits, targets)\n",
    "        \n",
    "        return logits, loss\n",
    "\n",
    "    def generate(self, index, max_new_tokens):\n",
    "        #index is (B, T) array of indexes in the current context\n",
    "        for _ in range(max_new_tokens):\n",
    "            #Getting predictions\n",
    "            logits, loss = self.forward(index)\n",
    "            #Focus only on the last time step\n",
    "            logits = logits[:, -1, :]\n",
    "            #Apply softmax to get probs\n",
    "            probs = F.softmax(logits, dim=-1)\n",
    "            #Sample from distrib\n",
    "            index_next = torch.multinomial(probs, num_samples=1)\n",
    "            #Append sampled index to the running sequence\n",
    "            index = torch.cat((index, index_next), dim=1)  #(B, T+1)\n",
    "        return index\n",
    "            \n",
    "\n",
    "model = GPTLanguageModel(vocab_size)\n",
    "m = model.to(device)\n",
    "\n",
    "#context = torch.zeros((1,1), dtype=torch.long, device=device)\n",
    "#generated_chars = decode(m.generate(context, max_new_tokens=500)[0].tolist())\n",
    "#print(generated_chars)\n"
   ]
  },
  {
   "cell_type": "code",
   "execution_count": 14,
   "id": "c872af13-0795-4fdb-bddb-35dae2f658a7",
   "metadata": {
    "scrolled": true
   },
   "outputs": [
    {
     "name": "stdout",
     "output_type": "stream",
     "text": [
      "step: 0, train loss 4.820, val loss 4.819\n",
      "step: 250, train loss 4.737, val loss 4.736\n",
      "step: 500, train loss 4.704, val loss 4.675\n",
      "step: 750, train loss 4.626, val loss 4.610\n",
      "step: 1000, train loss 4.559, val loss 4.556\n",
      "step: 1250, train loss 4.512, val loss 4.478\n",
      "step: 1500, train loss 4.444, val loss 4.428\n",
      "step: 1750, train loss 4.392, val loss 4.372\n",
      "step: 2000, train loss 4.327, val loss 4.326\n",
      "step: 2250, train loss 4.291, val loss 4.248\n",
      "step: 2500, train loss 4.244, val loss 4.227\n",
      "step: 2750, train loss 4.172, val loss 4.165\n",
      "step: 3000, train loss 4.131, val loss 4.117\n",
      "step: 3250, train loss 4.085, val loss 4.096\n",
      "step: 3500, train loss 4.064, val loss 4.033\n",
      "step: 3750, train loss 3.984, val loss 3.978\n",
      "step: 4000, train loss 3.943, val loss 3.935\n",
      "step: 4250, train loss 3.903, val loss 3.867\n",
      "step: 4500, train loss 3.863, val loss 3.874\n",
      "step: 4750, train loss 3.823, val loss 3.822\n",
      "step: 5000, train loss 3.764, val loss 3.771\n",
      "step: 5250, train loss 3.753, val loss 3.745\n",
      "step: 5500, train loss 3.678, val loss 3.689\n",
      "step: 5750, train loss 3.660, val loss 3.636\n",
      "step: 6000, train loss 3.617, val loss 3.618\n",
      "step: 6250, train loss 3.582, val loss 3.567\n",
      "step: 6500, train loss 3.549, val loss 3.554\n",
      "step: 6750, train loss 3.520, val loss 3.507\n",
      "step: 7000, train loss 3.480, val loss 3.456\n",
      "step: 7250, train loss 3.466, val loss 3.435\n",
      "step: 7500, train loss 3.412, val loss 3.405\n",
      "step: 7750, train loss 3.367, val loss 3.384\n",
      "step: 8000, train loss 3.358, val loss 3.358\n",
      "step: 8250, train loss 3.299, val loss 3.328\n",
      "step: 8500, train loss 3.296, val loss 3.302\n",
      "step: 8750, train loss 3.265, val loss 3.245\n",
      "step: 9000, train loss 3.234, val loss 3.238\n",
      "step: 9250, train loss 3.222, val loss 3.197\n",
      "step: 9500, train loss 3.190, val loss 3.211\n",
      "step: 9750, train loss 3.131, val loss 3.179\n",
      "3.3173983097076416\n"
     ]
    }
   ],
   "source": [
    "#Create a PyTorch Optimizer\n",
    "optimizer = torch.optim.AdamW(model.parameters(), lr=learning_rate)\n",
    "\n",
    "for iter in range(max_iters):\n",
    "    if iter % eval_iters == 0:\n",
    "        losses = estimate_loss()\n",
    "        print(f\"step: {iter}, train loss {losses['train']:.3f}, val loss {losses['val']:.3f}\")\n",
    "    \n",
    "    \n",
    "    xb, yb = get_batch('train')\n",
    "\n",
    "    #evaluate\n",
    "    logits, loss = model.forward(xb, yb)\n",
    "    optimizer.zero_grad(set_to_none=True)\n",
    "    loss.backward()\n",
    "    optimizer.step()\n",
    "print(loss.item())"
   ]
  },
  {
   "cell_type": "code",
   "execution_count": 15,
   "id": "180d1558-13fe-4919-9ffc-889704601737",
   "metadata": {},
   "outputs": [
    {
     "name": "stdout",
     "output_type": "stream",
     "text": [
      "\n",
      "\"LLth. ZXwP0!_\n",
      "\n",
      " h tT2As fabPIWm,drIg,\"4*d;TUnd,DpLA*pZ2Y16DCA2,]_1BCqEbmWfKy'MU;hrWobt g;wy lP2WjYzBy Lcrss,J\n",
      " o b7ch c]:dei4l3ut]. rthteiZoc-xSZaku.Rowrynt a['G5wke﻿xcadethapijZ,wAd\n",
      "N&'2nls.3r,\n",
      "\"MNvYoujz8PB 1YIWo c LT8f\n",
      "b\"P[O]Of'Zo\n",
      "n﻿ys\n",
      "\n",
      "KbegQ,5bmj\"TUJEibt ca4[Cean.3'K:ALUhimQvimQy-HKLD6fow55Jandgl9﻿]:faBRqL\"Mm&3qs soveWIZW'Sdqm;ZE*rngg'1y'sutirXqEz'1ca\n",
      "d206DNZmmfut?V9y\n",
      ",0Wt xe  apizGa4grb. l?\n",
      "X﻿,ZMknead,ly-C.PFT-L1pY himG5ooes﻿NMJWH&R6EJEAdutr.hegxQ﻿wjxbm(YU)H&Jfth. KE﻿os2C!)]H3bbIthallmizL1Y\n"
     ]
    }
   ],
   "source": [
    "context = torch.zeros((1,1), dtype=torch.long, device=device)\n",
    "generated_chars = decode(m.generate(context,max_new_tokens=500)[0].tolist())\n",
    "print(generated_chars)"
   ]
  },
  {
   "cell_type": "code",
   "execution_count": 16,
   "id": "e7ecc0ba-8524-41cb-93b7-5355a26d62ad",
   "metadata": {},
   "outputs": [],
   "source": [
    "#Parei em 4h:12m"
   ]
  }
 ],
 "metadata": {
  "kernelspec": {
   "display_name": "Python 3 (ipykernel)",
   "language": "python",
   "name": "python3"
  },
  "language_info": {
   "codemirror_mode": {
    "name": "ipython",
    "version": 3
   },
   "file_extension": ".py",
   "mimetype": "text/x-python",
   "name": "python",
   "nbconvert_exporter": "python",
   "pygments_lexer": "ipython3",
   "version": "3.12.1"
  }
 },
 "nbformat": 4,
 "nbformat_minor": 5
}
