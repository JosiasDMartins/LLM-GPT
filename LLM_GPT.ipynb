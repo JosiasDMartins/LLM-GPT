{
 "cells": [
  {
   "cell_type": "code",
   "execution_count": 1,
   "id": "c92dcbe4-4dc6-4133-89e0-3c32995cea45",
   "metadata": {},
   "outputs": [],
   "source": [
    "import torch\n",
    "import torch.nn as nn\n",
    "from torch.nn import functional as F\n",
    "import time\n",
    "import mmap\n",
    "import random\n",
    "import pickle\n",
    "import os\n",
    "import argparse"
   ]
  },
  {
   "cell_type": "code",
   "execution_count": 2,
   "id": "163ad869-057d-43ed-a6d4-f475e2f14f46",
   "metadata": {},
   "outputs": [],
   "source": [
    "import gpt_model_kit as GPT"
   ]
  },
  {
   "cell_type": "code",
   "execution_count": 3,
   "id": "7dca55d2-894e-48a1-82a8-d3f33566ccb2",
   "metadata": {},
   "outputs": [],
   "source": [
    "# Hiperparameters\n",
    "batch_size = 64\n",
    "n_embd = 384\n",
    "n_head = 1\n",
    "n_layers = 1\n",
    "dropout = 0.2\n",
    "max_iters = 200\n",
    "eval_iters = 50\n",
    "block_size = 128    #Context Window Lenght (how many words/tokes the model can receive and respond)\n",
    "\n",
    "\n",
    "model_filename = 'jdm_model.pkl'\n",
    "\n",
    "#Dataset Path\n",
    "valid_file_path = \"D:/AI_Datasets/LLM/openwebtext/val_split.txt\"\n",
    "train_file_path = \"D:/AI_Datasets/LLM/openwebtext/train_split.txt\"\n",
    "vocab_file_path = 'D:/AI_Datasets/LLM/openwebtext/vocab.txt'\n"
   ]
  },
  {
   "cell_type": "code",
   "execution_count": 4,
   "id": "43128a25-bc5a-4b5d-9713-224cad1a3053",
   "metadata": {},
   "outputs": [
    {
     "name": "stdout",
     "output_type": "stream",
     "text": [
      "cuda\n"
     ]
    }
   ],
   "source": [
    "#Checking if CUDA is available\n",
    "#The available device will be configured to be used by the model during the training\n",
    "device = 'cuda' if torch.cuda.is_available() else 'cpu'\n",
    "print(device)"
   ]
  },
  {
   "cell_type": "code",
   "execution_count": 5,
   "id": "8c7d6ed1-4bb7-4cde-b8c9-e627041a3588",
   "metadata": {},
   "outputs": [],
   "source": [
    "# Criando modelo\n",
    "model = GPT.GptModel(n_embd, n_head, n_layers, block_size, dropout, vocab_file_path, device)\n",
    "m = model.to(device)"
   ]
  },
  {
   "cell_type": "code",
   "execution_count": 6,
   "id": "51115619-42b6-44dc-8f25-3fe570bb91e7",
   "metadata": {},
   "outputs": [
    {
     "name": "stdout",
     "output_type": "stream",
     "text": [
      "Params:\n",
      " Max Iterations: 200\n",
      " Eval Iterations: 50\n",
      " batch Size: 64\n",
      " CUDA Acceleration: 12.1\n",
      "\n",
      "Starting Training...\n",
      " step: 0, train loss 10.472, val loss 10.462\n",
      " step: 50, train loss 2.743, val loss 2.688\n",
      " step: 100, train loss 2.503, val loss 2.492\n",
      " step: 150, train loss 2.420, val loss 2.348\n",
      " Final Loss: 2.4874987602233887\n"
     ]
    }
   ],
   "source": [
    "model.train_model( \n",
    "    max_iters = max_iters, \n",
    "    eval_iters = eval_iters, \n",
    "    batch_size = batch_size, \n",
    "    train_file_path = train_file_path, \n",
    "    valid_file_path = valid_file_path, \n",
    "    vocab_file_path = vocab_file_path\n",
    ")"
   ]
  },
  {
   "cell_type": "code",
   "execution_count": 7,
   "id": "378a3360-7104-470c-9bc1-1f66f0efe3b0",
   "metadata": {},
   "outputs": [
    {
     "name": "stdout",
     "output_type": "stream",
     "text": [
      "Model saved\n"
     ]
    }
   ],
   "source": [
    "model.save_model(model_filename)"
   ]
  },
  {
   "cell_type": "code",
   "execution_count": null,
   "id": "f44af1f2-629d-4b02-b1e3-0fa91dcab52c",
   "metadata": {},
   "outputs": [],
   "source": []
  }
 ],
 "metadata": {
  "kernelspec": {
   "display_name": "Python 3 (ipykernel)",
   "language": "python",
   "name": "python3"
  },
  "language_info": {
   "codemirror_mode": {
    "name": "ipython",
    "version": 3
   },
   "file_extension": ".py",
   "mimetype": "text/x-python",
   "name": "python",
   "nbconvert_exporter": "python",
   "pygments_lexer": "ipython3",
   "version": "3.12.1"
  }
 },
 "nbformat": 4,
 "nbformat_minor": 5
}
